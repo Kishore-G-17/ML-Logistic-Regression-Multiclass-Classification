{
    "cells": [
        {
            "cell_type": "markdown",
            "source": [
                "<h1><b>Iris type (setosa, versicolor, verginica) detection using multi-class \r\n",
                "logistic regression</b><h1>"
            ],
            "metadata": {}
        },
        {
            "cell_type": "code",
            "execution_count": 2,
            "source": [
                "#import the iris dataset from sklearn module\r\n",
                "from sklearn.datasets import load_iris"
            ],
            "outputs": [],
            "metadata": {}
        },
        {
            "cell_type": "code",
            "execution_count": 3,
            "source": [
                "#Load the iris data set\r\n",
                "iris = load_iris()\r\n",
                "dir(iris)"
            ],
            "outputs": [
                {
                    "output_type": "execute_result",
                    "data": {
                        "text/plain": [
                            "['DESCR',\n",
                            " 'data',\n",
                            " 'feature_names',\n",
                            " 'filename',\n",
                            " 'frame',\n",
                            " 'target',\n",
                            " 'target_names']"
                        ]
                    },
                    "metadata": {},
                    "execution_count": 3
                }
            ],
            "metadata": {}
        },
        {
            "cell_type": "code",
            "execution_count": 22,
            "source": [
                "#Data processing and visualization\r\n",
                "print(iris.data[0:5])\r\n",
                "print(iris.feature_names)\r\n",
                "print(iris.target[0:5])\r\n",
                "print(iris.target_names)\r\n",
                "print(iris.frame)\r\n",
                "print(iris.filename)"
            ],
            "outputs": [
                {
                    "output_type": "stream",
                    "name": "stdout",
                    "text": [
                        "[[5.1 3.5 1.4 0.2]\n",
                        " [4.9 3.  1.4 0.2]\n",
                        " [4.7 3.2 1.3 0.2]\n",
                        " [4.6 3.1 1.5 0.2]\n",
                        " [5.  3.6 1.4 0.2]]\n",
                        "['sepal length (cm)', 'sepal width (cm)', 'petal length (cm)', 'petal width (cm)']\n",
                        "[0 0 0 0 0]\n",
                        "['setosa' 'versicolor' 'virginica']\n",
                        "None\n",
                        "C:\\Users\\ELCOT\\AppData\\Local\\Programs\\Python\\Python38\\lib\\site-packages\\sklearn\\datasets\\data\\iris.csv\n"
                    ]
                }
            ],
            "metadata": {}
        },
        {
            "cell_type": "code",
            "execution_count": 20,
            "source": [
                "#Shape of the Dependent and independent variables\r\n",
                "print(iris.data.shape)\r\n",
                "print(iris.target.shape)"
            ],
            "outputs": [
                {
                    "output_type": "stream",
                    "name": "stdout",
                    "text": [
                        "(150, 4)\n",
                        "(150,)\n"
                    ]
                }
            ],
            "metadata": {}
        },
        {
            "cell_type": "code",
            "execution_count": 25,
            "source": [
                "#Split the iris dataset into training dataset and testing dataset\r\n",
                "from sklearn.model_selection import train_test_split\r\n",
                "(x_train, x_test, y_train, y_test) = train_test_split(iris.data, iris.target, train_size=0.7)\r\n",
                "x_train.shape"
            ],
            "outputs": [
                {
                    "output_type": "execute_result",
                    "data": {
                        "text/plain": [
                            "(105, 4)"
                        ]
                    },
                    "metadata": {},
                    "execution_count": 25
                }
            ],
            "metadata": {}
        },
        {
            "cell_type": "code",
            "execution_count": 26,
            "source": [
                "#Create and train the Logistic regression model\r\n",
                "from sklearn.linear_model import LogisticRegression\r\n",
                "log_model = LogisticRegression()\r\n",
                "log_model.fit(x_train, y_train)"
            ],
            "outputs": [
                {
                    "output_type": "execute_result",
                    "data": {
                        "text/plain": [
                            "LogisticRegression()"
                        ]
                    },
                    "metadata": {},
                    "execution_count": 26
                }
            ],
            "metadata": {}
        },
        {
            "cell_type": "code",
            "execution_count": 29,
            "source": [
                "#Evaluate our model using testing data set\r\n",
                "y_predicted = log_model.predict(x_test)\r\n",
                "y_predicted[0:5]"
            ],
            "outputs": [
                {
                    "output_type": "execute_result",
                    "data": {
                        "text/plain": [
                            "array([2, 0, 1, 1, 2])"
                        ]
                    },
                    "metadata": {},
                    "execution_count": 29
                }
            ],
            "metadata": {}
        },
        {
            "cell_type": "code",
            "execution_count": 32,
            "source": [
                "#Check the accuracy of our model\r\n",
                "log_model.score(x_test, y_test)\r\n",
                "print(\"y_test[0:5] = \", y_test[0: 5])\r\n",
                "print(\"y_predicted[0:5] = \", y_predicted[0: 5])"
            ],
            "outputs": [
                {
                    "output_type": "stream",
                    "name": "stdout",
                    "text": [
                        "y_test[0:5] =  [2 0 1 1 2]\n",
                        "y_predicted[0:5] =  [2 0 1 1 2]\n"
                    ]
                }
            ],
            "metadata": {}
        },
        {
            "cell_type": "code",
            "execution_count": 37,
            "source": [
                "from sklearn.metrics import confusion_matrix\r\n",
                "conf_matrix = confusion_matrix(y_test, y_predicted)\r\n",
                "conf_matrix"
            ],
            "outputs": [
                {
                    "output_type": "execute_result",
                    "data": {
                        "text/plain": [
                            "array([[16,  0,  0],\n",
                            "       [ 0, 14,  2],\n",
                            "       [ 0,  0, 13]], dtype=int64)"
                        ]
                    },
                    "metadata": {},
                    "execution_count": 37
                }
            ],
            "metadata": {}
        },
        {
            "cell_type": "code",
            "execution_count": 39,
            "source": [
                "import seaborn as sn\r\n",
                "import matplotlib.pyplot as plt\r\n",
                "%matplotlib inline\r\n",
                "sn.heatmap(conf_matrix, annot=True, fmt=\"d\")\r\n",
                "plt.xlabel(\"Prediction\")\r\n",
                "plt.ylabel(\"Truth\")"
            ],
            "outputs": [
                {
                    "output_type": "execute_result",
                    "data": {
                        "text/plain": [
                            "Text(33.0, 0.5, 'Truth')"
                        ]
                    },
                    "metadata": {},
                    "execution_count": 39
                },
                {
                    "output_type": "display_data",
                    "data": {
                        "text/plain": [
                            "<Figure size 432x288 with 2 Axes>"
                        ],
                        "image/png": "[encoded data removed]"
                    },
                    "metadata": {
                        "needs_background": "light"
                    }
                }
            ],
            "metadata": {}
        }
    ],
    "metadata": {
        "orig_nbformat": 4,
        "language_info": {
            "name": "python",
            "version": "3.8.2",
            "mimetype": "text/x-python",
            "codemirror_mode": {
                "name": "ipython",
                "version": 3
            },
            "pygments_lexer": "ipython3",
            "nbconvert_exporter": "python",
            "file_extension": ".py"
        },
        "kernelspec": {
            "name": "python3",
            "display_name": "Python 3.8.2 64-bit"
        },
        "interpreter": {
            "hash": "04dab57e78248bc5235021efaca3862c9054ea03675166f084d8c1a7ef1d3271"
        }
    },
    "nbformat": 4,
    "nbformat_minor": 2
}